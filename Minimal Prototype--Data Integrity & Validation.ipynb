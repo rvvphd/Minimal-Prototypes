{
 "cells": [
  {
   "cell_type": "code",
   "execution_count": 1,
   "metadata": {},
   "outputs": [
    {
     "name": "stdout",
     "output_type": "stream",
     "text": [
      "=== RAW REPORT ===\n",
      "{'missing_columns': [], 'unexpected_columns': ['unexpected_col'], 'nulls_per_column': {'patient_id': 0, 'age': 0, 'sex': 0, 'date_enrolled': 0, 'height_cm': 7, 'weight_kg': 6}, 'duplicate_rows_on_patient_id': 10, 'enum_violations': {'sex': 5}, 'range_violations': {'age': 6, 'height_cm': 0, 'weight_kg': 0}} \n",
      "\n",
      "=== SUMMARY ===\n",
      "{'missing_columns': 0, 'unexpected_columns': 1, 'total_nulls': 13, 'duplicate_rows_on_patient_id': 10, 'enum_violations_total': 5, 'range_violations_total': 6} \n",
      "\n"
     ]
    },
    {
     "data": {
      "image/png": "[encoded data removed]",
      "text/plain": [
       "<Figure size 504x288 with 1 Axes>"
      ]
     },
     "metadata": {
      "needs_background": "light"
     },
     "output_type": "display_data"
    }
   ],
   "source": [
    "# Name: Data Integrity & Validation — Minimal Prototype\n",
    "# Author: Rod Villalobos\n",
    "# Purpose: Show an AI prototype performing data integrity & validation.\n",
    "\n",
    "import numpy as np\n",
    "import pandas as pd\n",
    "import matplotlib.pyplot as plt\n",
    "\n",
    "# 1) Create a small dataset with deliberate issues\n",
    "np.random.seed(10)\n",
    "N = 120\n",
    "df = pd.DataFrame({\n",
    "    \"patient_id\": np.arange(1, N+1),\n",
    "    \"age\": np.random.choice(list(range(18, 90)) + [999, -3], size=N),\n",
    "    \"sex\": np.random.choice([\"M\", \"F\", \"?\"], size=N, p=[0.48, 0.48, 0.04]),\n",
    "    \"date_enrolled\": pd.to_datetime(\"2024-01-01\") + pd.to_timedelta(np.random.randint(0, 365, size=N), unit=\"D\"),\n",
    "    \"height_cm\": np.random.normal(170, 12, size=N),\n",
    "    \"weight_kg\": np.random.normal(75, 15, size=N),\n",
    "})\n",
    "# Inject nulls and duplicates\n",
    "df.loc[np.random.choice(N, 6, replace=False), \"height_cm\"] = np.nan\n",
    "df.loc[np.random.choice(N, 5, replace=False), \"weight_kg\"] = np.nan\n",
    "dupes = df.sample(5, random_state=7)\n",
    "df = pd.concat([df, dupes], ignore_index=True)\n",
    "# Add an unexpected column\n",
    "df[\"unexpected_col\"] = np.random.randint(0, 3, size=len(df))\n",
    "\n",
    "# 2) Validator\n",
    "EXPECTED_COLUMNS = [\"patient_id\", \"age\", \"sex\", \"date_enrolled\", \"height_cm\", \"weight_kg\"]\n",
    "ENUMS = {\"sex\": {\"M\", \"F\"}}\n",
    "RANGES = {\"age\": (18, 90), \"height_cm\": (120.0, 220.0), \"weight_kg\": (35.0, 200.0)}\n",
    "\n",
    "def validate(df: pd.DataFrame) -> dict:\n",
    "    report = {}\n",
    "    report[\"missing_columns\"] = [c for c in EXPECTED_COLUMNS if c not in df.columns]\n",
    "    report[\"unexpected_columns\"] = [c for c in df.columns if c not in EXPECTED_COLUMNS]\n",
    "    report[\"nulls_per_column\"] = {c: int(df[c].isna().sum()) for c in EXPECTED_COLUMNS if c in df.columns}\n",
    "    report[\"duplicate_rows_on_patient_id\"] = int(df.duplicated(subset=[\"patient_id\"], keep=False).sum())\n",
    "    enum_viol = {col: int((~df[col].isin(allowed)).sum()) for col, allowed in ENUMS.items() if col in df.columns}\n",
    "    range_viol = {\n",
    "        col: int((df[col].notna() & ((df[col] < low) | (df[col] > high))).sum())\n",
    "        for col, (low, high) in RANGES.items() if col in df.columns\n",
    "    }\n",
    "    report[\"enum_violations\"], report[\"range_violations\"] = enum_viol, range_viol\n",
    "    return report\n",
    "\n",
    "report = validate(df)\n",
    "\n",
    "# 3) Summarize results\n",
    "summary = {\n",
    "    \"missing_columns\": len(report[\"missing_columns\"]),\n",
    "    \"unexpected_columns\": len(report[\"unexpected_columns\"]),\n",
    "    \"total_nulls\": sum(report[\"nulls_per_column\"].values()),\n",
    "    \"duplicate_rows_on_patient_id\": report[\"duplicate_rows_on_patient_id\"],\n",
    "    \"enum_violations_total\": sum(report[\"enum_violations\"].values()),\n",
    "    \"range_violations_total\": sum(report[\"range_violations\"].values()),\n",
    "}\n",
    "\n",
    "# 4) Display results\n",
    "print(\"=== RAW REPORT ===\")\n",
    "print(report, \"\\n\")\n",
    "print(\"=== SUMMARY ===\")\n",
    "print(summary, \"\\n\")\n",
    "\n",
    "# 5) Visualize issues\n",
    "plt.figure(figsize=(7,4))\n",
    "plt.bar(summary.keys(), summary.values())\n",
    "plt.title(\"Data Integrity Issues — Summary\")\n",
    "plt.ylabel(\"Count\")\n",
    "plt.xticks(rotation=20)\n",
    "plt.tight_layout()\n",
    "plt.show()\n",
    "\n",
    "\n"
   ]
  },
  {
   "cell_type": "code",
   "execution_count": null,
   "metadata": {},
   "outputs": [],
   "source": []
  }
 ],
 "metadata": {
  "kernelspec": {
   "display_name": "Python 3",
   "language": "python",
   "name": "python3"
  },
  "language_info": {
   "codemirror_mode": {
    "name": "ipython",
    "version": 3
   },
   "file_extension": ".py",
   "mimetype": "text/x-python",
   "name": "python",
   "nbconvert_exporter": "python",
   "pygments_lexer": "ipython3",
   "version": "3.7.6"
  }
 },
 "nbformat": 4,
 "nbformat_minor": 4
}
